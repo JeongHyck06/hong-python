{
 "cells": [
  {
   "cell_type": "code",
   "id": "initial_id",
   "metadata": {
    "collapsed": true,
    "ExecuteTime": {
     "end_time": "2025-09-01T01:14:48.317463Z",
     "start_time": "2025-09-01T01:14:48.314056Z"
    }
   },
   "source": "print(\"hello world\")",
   "outputs": [
    {
     "name": "stdout",
     "output_type": "stream",
     "text": [
      "hello world\n"
     ]
    }
   ],
   "execution_count": 1
  },
  {
   "metadata": {},
   "cell_type": "markdown",
   "source": [
    "\n",
    "* 학번 : 202517096\n",
    "\n",
    "* 이름 : 임정혁\n",
    "\n",
    "* 작성일 : 0901\n",
    "\n",
    "* 관련챕터 : 1장"
   ],
   "id": "93a66261e6a7858d"
  },
  {
   "metadata": {
    "ExecuteTime": {
     "end_time": "2025-09-01T00:54:37.586929Z",
     "start_time": "2025-09-01T00:54:37.584383Z"
    }
   },
   "cell_type": "code",
   "source": [
    "# Commenet(주석, 설명문)는 실행에 영향을 주지 않는다\n",
    "# 첫 번째 실행 연습\n",
    "# 출력 연습\n",
    "\n",
    "print(\"Hello world\") # 화면에 출력하는 함수 print()를 호출(call)"
   ],
   "id": "aad82a2f73e93784",
   "outputs": [
    {
     "name": "stdout",
     "output_type": "stream",
     "text": [
      "Hello world\n"
     ]
    }
   ],
   "execution_count": 6
  },
  {
   "metadata": {
    "ExecuteTime": {
     "end_time": "2025-09-01T00:59:49.346134Z",
     "start_time": "2025-09-01T00:59:49.343319Z"
    }
   },
   "cell_type": "code",
   "source": "print('홍길동') # ''또는 \" \" 안에 문자열(String)을 써준다",
   "id": "627a8cf310f6c1a8",
   "outputs": [
    {
     "name": "stdout",
     "output_type": "stream",
     "text": [
      "홍길동\n"
     ]
    }
   ],
   "execution_count": 8
  },
  {
   "metadata": {
    "ExecuteTime": {
     "end_time": "2025-09-01T01:00:22.514977Z",
     "start_time": "2025-09-01T01:00:22.509771Z"
    }
   },
   "cell_type": "code",
   "source": "100 + 200",
   "id": "f9b152860aa2699b",
   "outputs": [
    {
     "data": {
      "text/plain": [
       "300"
      ]
     },
     "execution_count": 9,
     "metadata": {},
     "output_type": "execute_result"
    }
   ],
   "execution_count": 9
  },
  {
   "metadata": {
    "ExecuteTime": {
     "end_time": "2025-09-01T01:01:48.687276Z",
     "start_time": "2025-09-01T01:01:48.685124Z"
    }
   },
   "cell_type": "code",
   "source": [
    "100*2\n",
    "200* 3 # 마지막 계산 결과만 화면에 출력됨"
   ],
   "id": "d9133f811b61f249",
   "outputs": [
    {
     "data": {
      "text/plain": [
       "600"
      ]
     },
     "execution_count": 10,
     "metadata": {},
     "output_type": "execute_result"
    }
   ],
   "execution_count": 10
  },
  {
   "metadata": {
    "ExecuteTime": {
     "end_time": "2025-09-01T01:02:39.123120Z",
     "start_time": "2025-09-01T01:02:39.120001Z"
    }
   },
   "cell_type": "code",
   "source": [
    "#두 개의 계산 결과 모두 출력\n",
    "\n",
    "print(100*2) # print()는 기본적으로 한줄에 출력\n",
    "print(200*3)"
   ],
   "id": "2b3212205e1263a6",
   "outputs": [
    {
     "name": "stdout",
     "output_type": "stream",
     "text": [
      "200\n",
      "600\n"
     ]
    }
   ],
   "execution_count": 13
  },
  {
   "metadata": {
    "ExecuteTime": {
     "end_time": "2025-09-01T01:06:28.824220Z",
     "start_time": "2025-09-01T01:06:28.821966Z"
    }
   },
   "cell_type": "code",
   "source": [
    "# 문자열과 숫자를 같이 출력\n",
    "print(100*2) # 100*2는 정수\n",
    "print(\"100*2\") # \"100*2\" 는 문자열\n",
    "\n",
    "# 100 * 2 = 200 출력하기\n",
    "print(\"100*2 =\", 100*2) # 여러개를 한 줄에 출력하고 싶을때는 ,를 사용"
   ],
   "id": "cdbaa8a2756d4c8",
   "outputs": [
    {
     "name": "stdout",
     "output_type": "stream",
     "text": [
      "200\n",
      "100*2\n",
      "100*2 = 200\n"
     ]
    }
   ],
   "execution_count": 18
  },
  {
   "metadata": {
    "ExecuteTime": {
     "end_time": "2025-09-01T01:11:25.224328Z",
     "start_time": "2025-09-01T01:11:25.222464Z"
    }
   },
   "cell_type": "code",
   "source": [
    "# 현재 20살인 철수군이 자신의 이름과 12년 후 몇 살이 되는지를 한 줄에 전부 출력하려고 한다\n",
    "# 출력 예 : 나는 홍길동이고, 12년 후에는 33세입니다\n",
    "\n",
    "print(\"나는 임정혁이고, 12년 후에는\", 12+20,\"세입니다\")"
   ],
   "id": "b69543e0a5a080ee",
   "outputs": [
    {
     "name": "stdout",
     "output_type": "stream",
     "text": [
      "나는 임정혁이고, 12년 후에는 32 세입니다\n"
     ]
    }
   ],
   "execution_count": 21
  },
  {
   "metadata": {},
   "cell_type": "markdown",
   "source": "[연습 1] 100 + 200 × 3 + 100/3을 계산해 보자.",
   "id": "610224d66f57f710"
  },
  {
   "metadata": {
    "ExecuteTime": {
     "end_time": "2025-09-01T01:38:57.942841Z",
     "start_time": "2025-09-01T01:38:57.940158Z"
    }
   },
   "cell_type": "code",
   "source": [
    "# [연습 1]\n",
    "print(\"100 + 200 x 3 + 100/3의 값은\",100 + 200 * 3 + 100/3,\"입니다\")"
   ],
   "id": "a73970901ce4e42",
   "outputs": [
    {
     "name": "stdout",
     "output_type": "stream",
     "text": [
      "100 + 200 x 3 + 100/3의 값은 733.3333333333334 입니다\n"
     ]
    }
   ],
   "execution_count": 11
  },
  {
   "metadata": {},
   "cell_type": "markdown",
   "source": "[연습 2] 반지름이 100인 원의 면적을 계산해 보자.",
   "id": "c091b722e8f7a916"
  },
  {
   "metadata": {
    "ExecuteTime": {
     "end_time": "2025-09-01T01:38:16.942892Z",
     "start_time": "2025-09-01T01:38:16.940364Z"
    }
   },
   "cell_type": "code",
   "source": [
    "# [연습 2]\n",
    "#import math\n",
    "#print(100*100*math.pi)\n",
    "print(\"반지름이 100인 원의 넓이는\",100**2*3.14,\"입니다\")"
   ],
   "id": "e328649908148b67",
   "outputs": [
    {
     "name": "stdout",
     "output_type": "stream",
     "text": [
      "반지름이 100인 원의 넓이는 31400.0 입니다\n"
     ]
    }
   ],
   "execution_count": 10
  },
  {
   "metadata": {
    "ExecuteTime": {
     "end_time": "2025-09-01T01:52:24.496706Z",
     "start_time": "2025-09-01T01:52:24.493211Z"
    }
   },
   "cell_type": "code",
   "source": [
    "# 화씨 온도를 섭씨 온도로 변환하여 출력\n",
    "ftemp = 100 # ftemp는 변수이다. ftemp에 100을 저장. ftemp의 타입은 정수. #ftemp는 섭씨온도를 저장하기 위한 변수\n",
    "\n",
    "ctemp = (ftemp - 32.0 )*5/9 # 화씨 온도를 섭씨 온도로 변환하는 공식 사용\n",
    "print(ctemp) # 섭씨 온도 출력\n"
   ],
   "id": "2b4a75a6b97e5aee",
   "outputs": [
    {
     "name": "stdout",
     "output_type": "stream",
     "text": [
      "37.77777777777778\n"
     ]
    }
   ],
   "execution_count": 13
  },
  {
   "metadata": {},
   "cell_type": "markdown",
   "source": [
    "[연습 3] print() 함수 실습\n",
    "\n",
    "\n",
    "\n"
   ],
   "id": "b194c023f9724b86"
  },
  {
   "metadata": {
    "ExecuteTime": {
     "end_time": "2025-09-01T01:58:11.714014Z",
     "start_time": "2025-09-01T01:58:11.711570Z"
    }
   },
   "cell_type": "code",
   "source": [
    "# [연습 3]\n",
    "print(\"안녕하세요 여러분\")\n",
    "print(\"저는 파이썬을 무척 좋아합니다\")\n",
    "print(\"9*8은\", 72,\"입니다.\")\n",
    "print(\"안녕히 계세요\")"
   ],
   "id": "7da82e7dbf485892",
   "outputs": [
    {
     "name": "stdout",
     "output_type": "stream",
     "text": [
      "안녕하세요 여러분\n",
      "저는 파이썬을 무척 좋아합니다\n",
      "9*8은 72 입니다.\n",
      "안녕히 계세요\n"
     ]
    }
   ],
   "execution_count": 14
  },
  {
   "metadata": {},
   "cell_type": "markdown",
   "source": [
    "[연습 4] age 라는 변수에 자신의 나이를 저장하고, 다음을 출력하라.\n",
    "* 출력: 19세인 경우, 나의 나이는 19세입니다."
   ],
   "id": "3e3fe73b43e5c118"
  },
  {
   "metadata": {
    "ExecuteTime": {
     "end_time": "2025-09-01T02:02:09.419338Z",
     "start_time": "2025-09-01T02:02:09.416617Z"
    }
   },
   "cell_type": "code",
   "source": [
    "# [연습 4]\n",
    "age = 20\n",
    "print(\"나의 나이는\",age,\"세 입니다\")"
   ],
   "id": "99190b9b05e24d71",
   "outputs": [
    {
     "name": "stdout",
     "output_type": "stream",
     "text": [
      "나의 나이는 20 세 입니다\n"
     ]
    }
   ],
   "execution_count": 15
  },
  {
   "metadata": {},
   "cell_type": "code",
   "outputs": [],
   "execution_count": null,
   "source": "",
   "id": "5d491cb442c9fc2f"
  }
 ],
 "metadata": {
  "kernelspec": {
   "display_name": "Python 3",
   "language": "python",
   "name": "python3"
  },
  "language_info": {
   "codemirror_mode": {
    "name": "ipython",
    "version": 2
   },
   "file_extension": ".py",
   "mimetype": "text/x-python",
   "name": "python",
   "nbconvert_exporter": "python",
   "pygments_lexer": "ipython2",
   "version": "2.7.6"
  }
 },
 "nbformat": 4,
 "nbformat_minor": 5
}
